{
 "cells": [
  {
   "cell_type": "code",
   "execution_count": null,
   "metadata": {},
   "outputs": [],
   "source": [
    "# !pip install google-cloud-translate"
   ]
  },
  {
   "cell_type": "code",
   "execution_count": 42,
   "metadata": {
    "tags": []
   },
   "outputs": [
    {
     "data": {
      "text/plain": [
       "('He twisted every reality towards himself.', 'ja')"
      ]
     },
     "execution_count": 42,
     "metadata": {},
     "output_type": "execute_result"
    }
   ],
   "source": [
    "from google.cloud import translate_v3 as translate\n",
    "from google.cloud.translate_v3 import TranslationServiceAsyncClient, TranslateTextRequest\n",
    "import json\n",
    "import os\n",
    "\n",
    "assert os.environ[\"GOOGLE_APPLICATION_CREDENTIALS\"]\n",
    "\n",
    "def get_google_project_id():\n",
    "    try:\n",
    "        return json.loads(open(os.environ[\"GOOGLE_APPLICATION_CREDENTIALS\"], \"r\").read())[\"project_id\"]\n",
    "    except:\n",
    "        return None\n",
    "\n",
    "\n",
    "client = TranslationServiceAsyncClient()\n",
    "\n",
    "text = \"あらゆる現実をすべて自身のほうへねじ曲げたのだ\"\n",
    "\n",
    "async def translate(text, target_language_code):\n",
    "    result = await client.translate_text(TranslateTextRequest(\n",
    "        **dict(\n",
    "            parent=f\"projects/{get_google_project_id() or 'YOUR_PROJECT_ID'}/locations/global\",\n",
    "            contents=[text],\n",
    "            mime_type=\"text/plain\",\n",
    "    #         source_language_code=\"ja-JP\",\n",
    "            target_language_code=target_language_code,\n",
    "        )\n",
    "    ))\n",
    "    translation = result.translations[0]\n",
    "    return translation.translated_text, translation.detected_language_code\n",
    "\n",
    "\n",
    "result = await translate(text, \"en-US\")\n",
    "result"
   ]
  },
  {
   "cell_type": "code",
   "execution_count": 43,
   "metadata": {},
   "outputs": [
    {
     "data": {
      "text/plain": [
       "('彼はすべての現実を自分自身に向けてねじった。', 'en')"
      ]
     },
     "execution_count": 43,
     "metadata": {},
     "output_type": "execute_result"
    }
   ],
   "source": [
    "back_translated = await translate(result[0], \"ja-JP\")\n",
    "back_translated"
   ]
  },
  {
   "cell_type": "code",
   "execution_count": 44,
   "metadata": {},
   "outputs": [
    {
     "name": "stdout",
     "output_type": "stream",
     "text": [
      "{'base': 'あらゆる現実をすべて自身のほうへねじ曲げたのだ', 'back_translated': '彼はすべての現実を自分自身に向けてねじった。'}\n"
     ]
    }
   ],
   "source": [
    "print(dict(\n",
    "    base=text,\n",
    "    back_translated=back_translated[0]\n",
    "))"
   ]
  }
 ],
 "metadata": {
  "kernelspec": {
   "display_name": "Python 3 (ipykernel)",
   "language": "python",
   "name": "python3"
  },
  "language_info": {
   "codemirror_mode": {
    "name": "ipython",
    "version": 3
   },
   "file_extension": ".py",
   "mimetype": "text/x-python",
   "name": "python",
   "nbconvert_exporter": "python",
   "pygments_lexer": "ipython3",
   "version": "3.8.11"
  }
 },
 "nbformat": 4,
 "nbformat_minor": 4
}
