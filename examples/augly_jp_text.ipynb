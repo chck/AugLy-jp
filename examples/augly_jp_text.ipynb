{
 "cells": [
  {
   "cell_type": "code",
   "execution_count": 1,
   "metadata": {
    "collapsed": true,
    "pycharm": {
     "name": "#%%\n"
    }
   },
   "outputs": [
    {
     "data": {
      "text/plain": "'目を覚ましました。朝、目を覚ますということは、いつもあることで、別に変ったことではありません。しかし、何が変なのでしょう？ 何かしら変なのです。'"
     },
     "execution_count": 1,
     "metadata": {},
     "output_type": "execute_result"
    }
   ],
   "source": [
    "from augly_jp import text as textaugs\n",
    "\n",
    "input_text = \"目を覚ましました。朝、目を覚ますということは、いつもあることで、別に変ったことではありません。しかし、何が変なのでしょう？ 何かしら変なのです。\"\n",
    "input_text"
   ]
  },
  {
   "cell_type": "code",
   "execution_count": 5,
   "outputs": [
    {
     "data": {
      "text/plain": "'目を覚ましました。モーニング、目を覚ますということは、いつもあることで、別に変ったことではありません。しかし、何が変なのでしょう？何かしら変なのです。'"
     },
     "execution_count": 5,
     "metadata": {},
     "output_type": "execute_result"
    }
   ],
   "source": [
    "textaugs.replace_synonym_words(input_text)"
   ],
   "metadata": {
    "collapsed": false,
    "pycharm": {
     "name": "#%%\n"
    }
   }
  },
  {
   "cell_type": "code",
   "execution_count": 15,
   "outputs": [
    {
     "name": "stdout",
     "output_type": "stream",
     "text": [
      "目を覚ましました。morning、目を覚ますということは、いつもあることで、別に変ったことではありません。しかし、何が変なのでしょう？何かしら変なのです。\n"
     ]
    },
    {
     "data": {
      "text/plain": "[{'name': 'replace_synonym_words',\n  'input_type': 'string',\n  'src_length': 1,\n  'dst_length': 77,\n  'aug_p': 0.6,\n  'aug_min': 1,\n  'aug_max': 1000,\n  'n': 1,\n  'intensity': 0.0}]"
     },
     "execution_count": 15,
     "metadata": {},
     "output_type": "execute_result"
    }
   ],
   "source": [
    "\"\"\"\n",
    "You can optionally pass in a metadata list, to which metadata about the\n",
    "augmentation will be appended including kwargs and intensity (defined based on\n",
    "the kwargs for each augmentation).\n",
    "\"\"\"\n",
    "meta = []\n",
    "print(\n",
    "    textaugs.replace_synonym_words(\n",
    "        input_text, aug_p=0.6, metadata=meta\n",
    "    )\n",
    ")\n",
    "meta"
   ],
   "metadata": {
    "collapsed": false,
    "pycharm": {
     "name": "#%%\n"
    }
   }
  },
  {
   "cell_type": "code",
   "execution_count": 19,
   "outputs": [
    {
     "name": "stdout",
     "output_type": "stream",
     "text": [
      "目を覚ましました。モーニング、目を覚ますということは、いつもあることで、別に変ったことではありません。しかし、何が変なのでしょう？何かしら変なのです。\n"
     ]
    },
    {
     "data": {
      "text/plain": "[{'name': 'replace_synonym_words',\n  'input_type': 'string',\n  'src_length': 1,\n  'dst_length': 75,\n  'aug_p': 0.6,\n  'aug_min': 1,\n  'aug_max': 1000,\n  'n': 1,\n  'intensity': 0.0}]"
     },
     "execution_count": 19,
     "metadata": {},
     "output_type": "execute_result"
    }
   ],
   "source": [
    "# For all the augmentations, we have class-based definitions as well as\n",
    "# functional\n",
    "meta = []\n",
    "aug = textaugs.ReplaceSynonymWords(aug_p=0.6)\n",
    "print(aug(input_text, metadata=meta))\n",
    "meta"
   ],
   "metadata": {
    "collapsed": false,
    "pycharm": {
     "name": "#%%\n"
    }
   }
  }
 ],
 "metadata": {
  "kernelspec": {
   "display_name": "Python 3",
   "language": "python",
   "name": "python3"
  },
  "language_info": {
   "codemirror_mode": {
    "name": "ipython",
    "version": 2
   },
   "file_extension": ".py",
   "mimetype": "text/x-python",
   "name": "python",
   "nbconvert_exporter": "python",
   "pygments_lexer": "ipython2",
   "version": "2.7.6"
  }
 },
 "nbformat": 4,
 "nbformat_minor": 0
}